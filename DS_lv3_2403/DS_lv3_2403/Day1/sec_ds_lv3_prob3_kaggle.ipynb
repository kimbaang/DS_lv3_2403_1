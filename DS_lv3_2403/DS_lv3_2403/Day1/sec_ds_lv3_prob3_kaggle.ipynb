{
 "cells": [
  {
   "cell_type": "markdown",
   "id": "5bc5a59b",
   "metadata": {},
   "source": [
    "# 문제 6\n",
    "\n",
    "(kaggle 형 문제) prob4 를 바탕으로 아래 데이터셋을 만든다.\n",
    "\n",
    ". prob6_train: DateHour 변수 기준으로 2021년 8월 14일 전(8월 14일 미포함) 데이터 (행의 수: 5256개)\n",
    "\n",
    ". prob6_test: DateHour 변수 기준으로 2021년 8월 14일 이후(8월 14일 포함) 데이터 (행의 수: 744 개)\n",
    "\n",
    "일 때, prob6_train으로 target을 예측하는 모델을 만들어, \n",
    "\n",
    "prob6_test의 target에 대한 MAE를 최소화하는 모델을 만든다. \n",
    "\n",
    "prob6_test의 예측 결과를 아래와 같은 형식으로 출력한다. 파일명은 answer6.csv 이다.\n",
    "\n",
    "|DateHour|TotalHour|\n",
    "|--------|---------|\n",
    "|2021-08-14 00:00:00|102.607580|\n",
    "|2021-08-14 01:00:00|94.078890|\n",
    "...."
   ]
  },
  {
   "cell_type": "markdown",
   "id": "9d9e14e5",
   "metadata": {},
   "source": [
    "# 시험장 환경 정보\n",
    "\n",
    "Python: 3.7.4 (tags/v3.7.4:e09359112e, Jul  8 2019, 20:34:20) [MSC v.1916 64 bit (AMD64)]\n",
    "\n",
    "|모듈|버젼|\n",
    "|----|----|\n",
    "|pandas|0.25.1|\n",
    "|numpy|1.18.5|\n",
    "|sklearn|0.21.3|\n",
    "|scipy|1.5.2|\n",
    "|mlxtend|0.15.0.0|\n",
    "|statsmodels|0.11.1|\n",
    "\n",
    "**강사: 멀티캠퍼스 강선구(sunku0316.kang@multicampus.com, sun9sun9@gmail.com)**"
   ]
  },
  {
   "cell_type": "code",
   "execution_count": null,
   "id": "711ced5a",
   "metadata": {},
   "outputs": [],
   "source": []
  }
 ],
 "metadata": {
  "kernelspec": {
   "display_name": "Python 3 (ipykernel)",
   "language": "python",
   "name": "python3"
  },
  "language_info": {
   "codemirror_mode": {
    "name": "ipython",
    "version": 3
   },
   "file_extension": ".py",
   "mimetype": "text/x-python",
   "name": "python",
   "nbconvert_exporter": "python",
   "pygments_lexer": "ipython3",
   "version": "3.10.12"
  }
 },
 "nbformat": 4,
 "nbformat_minor": 5
}
